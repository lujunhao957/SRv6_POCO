{
 "cells": [
  {
   "cell_type": "code",
   "execution_count": 4,
   "metadata": {},
   "outputs": [],
   "source": [
    "import datetime_utils\n",
    "import datetime"
   ]
  },
  {
   "cell_type": "code",
   "execution_count": 26,
   "metadata": {},
   "outputs": [
    {
     "name": "stdout",
     "output_type": "stream",
     "text": [
      "<type 'int'>\n",
      "1546866444\n"
     ]
    }
   ],
   "source": [
    "ts = datetime_utils.timestamp_now()\n",
    "print type(ts)\n",
    "print datetime_utils.timestamp_now()"
   ]
  },
  {
   "cell_type": "code",
   "execution_count": 27,
   "metadata": {},
   "outputs": [
    {
     "name": "stdout",
     "output_type": "stream",
     "text": [
      "<type 'datetime.datetime'>\n",
      "2019-01-07 21:07:24.000000\n"
     ]
    }
   ],
   "source": [
    "dt = datetime.datetime.fromtimestamp(ts)\n",
    "print type(dt)\n",
    "print datetime_utils.datetime_to_str(dt)"
   ]
  },
  {
   "cell_type": "code",
   "execution_count": 30,
   "metadata": {},
   "outputs": [
    {
     "name": "stdout",
     "output_type": "stream",
     "text": [
      "1546866444\n"
     ]
    }
   ],
   "source": [
    "dt = datetime.datetime.fromtimestamp(ts)\n",
    "print datetime_utils.datetime_to_timestamp(datetime_utils.datetime_to_str(dt))"
   ]
  },
  {
   "cell_type": "code",
   "execution_count": 17,
   "metadata": {},
   "outputs": [
    {
     "name": "stdout",
     "output_type": "stream",
     "text": [
      "2019-01-07 21:03:41\n"
     ]
    }
   ],
   "source": [
    "print datetime_utils.timestamp_to_datetime(ts)"
   ]
  },
  {
   "cell_type": "code",
   "execution_count": 18,
   "metadata": {},
   "outputs": [
    {
     "name": "stdout",
     "output_type": "stream",
     "text": [
      "2019-01-07 21:03:41\n"
     ]
    }
   ],
   "source": [
    "print datetime_utils.pd_timestamp(ts, 8)"
   ]
  },
  {
   "cell_type": "code",
   "execution_count": 29,
   "metadata": {},
   "outputs": [
    {
     "name": "stdout",
     "output_type": "stream",
     "text": [
      "<type 'str'>\n",
      "20190107\n"
     ]
    }
   ],
   "source": [
    "day_str = str(datetime_utils.datetime_to_daystr(dt))\n",
    "print type(day_str)\n",
    "print datetime_utils.datetime_to_daystr(dt)"
   ]
  },
  {
   "cell_type": "code",
   "execution_count": 25,
   "metadata": {},
   "outputs": [
    {
     "name": "stdout",
     "output_type": "stream",
     "text": [
      "1546790400\n"
     ]
    }
   ],
   "source": [
    "print datetime_utils.daystr_to_timestamp(day_str)"
   ]
  }
 ],
 "metadata": {
  "kernelspec": {
   "display_name": "Python 2",
   "language": "python",
   "name": "python2"
  },
  "language_info": {
   "codemirror_mode": {
    "name": "ipython",
    "version": 2
   },
   "file_extension": ".py",
   "mimetype": "text/x-python",
   "name": "python",
   "nbconvert_exporter": "python",
   "pygments_lexer": "ipython2",
   "version": "2.7.13"
  }
 },
 "nbformat": 4,
 "nbformat_minor": 2
}
